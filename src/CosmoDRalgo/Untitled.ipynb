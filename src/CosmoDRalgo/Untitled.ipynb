{
 "cells": [
  {
   "cell_type": "code",
   "execution_count": 1,
   "id": "c7f8c37c",
   "metadata": {},
   "outputs": [],
   "source": [
    "from xSM import *"
   ]
  },
  {
   "cell_type": "code",
   "execution_count": 2,
   "id": "6b17cc4e",
   "metadata": {},
   "outputs": [],
   "source": [
    "LO_potential = 2\n",
    "LO_parameters = 2\n",
    "mu3Bar = 1\n",
    "mu4D = 1\n",
    "mh2 = 100\n",
    "lambdaMix = 0.8\n",
    "lambdaS = 1\n",
    "g = 0.4\n",
    "gPrime = 0.6\n",
    "yt = 1\n",
    "mPhiSq = -15000\n",
    "mSSq = -8000\n",
    "lambdaPhi = 0.13\n",
    "gSSq = 1.48\n",
    "\n",
    "inputparams = [g,gPrime,yt,mPhiSq,mSSq,lambdaPhi,gSSq]"
   ]
  },
  {
   "cell_type": "code",
   "execution_count": 3,
   "id": "766f7f61",
   "metadata": {},
   "outputs": [
    {
     "data": {
      "text/plain": [
       "(-0.026525823848649224+0j)"
      ]
     },
     "execution_count": 3,
     "metadata": {},
     "output_type": "execute_result"
    }
   ],
   "source": [
    "GenericPotential3D().J_3(1)"
   ]
  },
  {
   "cell_type": "code",
   "execution_count": 4,
   "id": "ac0060a8",
   "metadata": {},
   "outputs": [],
   "source": [
    "testclass = xSM(mh2,lambdaMix,lambdaS,inputparams,mu3Bar,mu4D,LO_parameters,LO_potential)"
   ]
  },
  {
   "cell_type": "code",
   "execution_count": 5,
   "id": "6f1d2e02",
   "metadata": {},
   "outputs": [],
   "source": [
    "phi = np.linspace(1e-10,100,5)\n",
    "s = np.linspace(1e-10,100,5)\n",
    "\n",
    "Fields = np.array([[phi[i],s[i]] for i in range(len(phi))])"
   ]
  },
  {
   "cell_type": "code",
   "execution_count": 12,
   "id": "4a242fe8",
   "metadata": {},
   "outputs": [
    {
     "name": "stdout",
     "output_type": "stream",
     "text": [
      "[-2.99633552e+06 -2.99517835e+06 -2.99172497e+06 -2.98596880e+06\n",
      " -2.97788127e+06 -2.96741598e+06 -2.95450991e+06 -2.93908411e+06\n",
      " -2.92104421e+06 -2.90028090e+06 -2.87667036e+06 -2.85007475e+06\n",
      " -2.82034259e+06 -2.78730926e+06 -2.75079737e+06 -2.71061721e+06\n",
      " -2.66656713e+06 -2.61843389e+06 -2.56599304e+06 -2.50900916e+06\n",
      " -2.44723621e+06 -2.38041768e+06 -2.30828688e+06 -2.23056701e+06\n",
      " -2.14697134e+06 -2.05720330e+06 -1.96095651e+06 -1.85791482e+06\n",
      " -1.74775232e+06 -1.63013332e+06 -1.50471232e+06 -1.37113398e+06\n",
      " -1.22903309e+06 -1.07803461e+06 -9.17753725e+05 -7.47796029e+05\n",
      " -5.67757944e+05 -3.77227464e+05 -1.75785574e+05  3.69910857e+04\n",
      "  2.61525011e+05  4.98226987e+05  7.47471093e+05  1.00952721e+06\n",
      "  1.28432217e+06  1.56991949e+06  1.94337347e+06  2.33843612e+06\n",
      "  2.72006832e+06  3.10727980e+06  3.50512378e+06  3.91618974e+06\n",
      "  4.34240304e+06  4.97122479e+06  5.62987458e+06  6.22771072e+06\n",
      "  6.81499063e+06  7.40432344e+06  8.00157664e+06  8.61024965e+06\n",
      "  9.23276028e+06  9.87095313e+06  1.05263385e+07  1.12002190e+07\n",
      "  1.18937614e+07  1.26080423e+07  1.33440758e+07  1.41028335e+07\n",
      "  1.48852579e+07  1.56922717e+07  1.65247853e+07  1.73837019e+07\n",
      "  1.82699218e+07  1.91843450e+07  2.01278746e+07  2.11014178e+07\n",
      "  2.21058883e+07  2.31422073e+07  2.42113045e+07  2.53141192e+07\n",
      "  2.64516010e+07  2.76247102e+07  2.88344190e+07  3.00817112e+07\n",
      "  3.13675831e+07  3.26930438e+07  3.40591153e+07  3.54668329e+07\n",
      "  3.69172456e+07  3.84114160e+07  3.99504208e+07  4.15353507e+07\n",
      "  4.31673106e+07  4.48474201e+07  4.65768130e+07  4.83566380e+07\n",
      "  5.01880583e+07  5.20722522e+07  5.40104127e+07  5.60037480e+07]\n"
     ]
    }
   ],
   "source": [
    "print(testclass.Veff_3D(Fields,200))"
   ]
  },
  {
   "cell_type": "code",
   "execution_count": null,
   "id": "64a221ef",
   "metadata": {},
   "outputs": [],
   "source": []
  }
 ],
 "metadata": {
  "kernelspec": {
   "display_name": "Python 3 (ipykernel)",
   "language": "python",
   "name": "python3"
  },
  "language_info": {
   "codemirror_mode": {
    "name": "ipython",
    "version": 3
   },
   "file_extension": ".py",
   "mimetype": "text/x-python",
   "name": "python",
   "nbconvert_exporter": "python",
   "pygments_lexer": "ipython3",
   "version": "3.11.6"
  },
  "latex_envs": {
   "LaTeX_envs_menu_present": true,
   "autoclose": false,
   "autocomplete": true,
   "bibliofile": "biblio.bib",
   "cite_by": "apalike",
   "current_citInitial": 1,
   "eqLabelWithNumbers": true,
   "eqNumInitial": 1,
   "hotkeys": {
    "equation": "Ctrl-E",
    "itemize": "Ctrl-I"
   },
   "labels_anchors": false,
   "latex_user_defs": false,
   "report_style_numbering": false,
   "user_envs_cfg": false
  }
 },
 "nbformat": 4,
 "nbformat_minor": 5
}
